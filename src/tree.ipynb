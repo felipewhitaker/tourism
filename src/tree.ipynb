{
 "cells": [
  {
   "cell_type": "code",
   "execution_count": 69,
   "metadata": {},
   "outputs": [
    {
     "data": {
      "text/html": [
       "<div>\n",
       "<style scoped>\n",
       "    .dataframe tbody tr th:only-of-type {\n",
       "        vertical-align: middle;\n",
       "    }\n",
       "\n",
       "    .dataframe tbody tr th {\n",
       "        vertical-align: top;\n",
       "    }\n",
       "\n",
       "    .dataframe thead th {\n",
       "        text-align: right;\n",
       "    }\n",
       "</style>\n",
       "<table border=\"1\" class=\"dataframe\">\n",
       "  <thead>\n",
       "    <tr style=\"text-align: right;\">\n",
       "      <th></th>\n",
       "      <th>mes_ano</th>\n",
       "      <th>country</th>\n",
       "      <th>valor</th>\n",
       "      <th>y</th>\n",
       "      <th>lag_horizonte</th>\n",
       "      <th>lag_y_relevante</th>\n",
       "      <th>min_5</th>\n",
       "      <th>max_5</th>\n",
       "      <th>mean_5</th>\n",
       "      <th>median_5</th>\n",
       "      <th>regime_prob</th>\n",
       "      <th>date</th>\n",
       "    </tr>\n",
       "  </thead>\n",
       "  <tbody>\n",
       "    <tr>\n",
       "      <th>1</th>\n",
       "      <td>1991-01-01</td>\n",
       "      <td>Australia</td>\n",
       "      <td>1260.0</td>\n",
       "      <td>-1.254461</td>\n",
       "      <td>8</td>\n",
       "      <td>0.493167</td>\n",
       "      <td>-0.531523</td>\n",
       "      <td>0.978946</td>\n",
       "      <td>0.312905</td>\n",
       "      <td>0.493167</td>\n",
       "      <td>0.122366</td>\n",
       "      <td>1991-01-01</td>\n",
       "    </tr>\n",
       "    <tr>\n",
       "      <th>2</th>\n",
       "      <td>1991-02-01</td>\n",
       "      <td>Australia</td>\n",
       "      <td>1160.0</td>\n",
       "      <td>-0.747214</td>\n",
       "      <td>8</td>\n",
       "      <td>-0.246714</td>\n",
       "      <td>-0.531523</td>\n",
       "      <td>0.855935</td>\n",
       "      <td>0.067773</td>\n",
       "      <td>-0.231999</td>\n",
       "      <td>0.221929</td>\n",
       "      <td>1991-02-01</td>\n",
       "    </tr>\n",
       "    <tr>\n",
       "      <th>3</th>\n",
       "      <td>1991-02-01</td>\n",
       "      <td>Australia</td>\n",
       "      <td>1160.0</td>\n",
       "      <td>-0.747214</td>\n",
       "      <td>9</td>\n",
       "      <td>0.493167</td>\n",
       "      <td>-0.531523</td>\n",
       "      <td>0.978946</td>\n",
       "      <td>0.312905</td>\n",
       "      <td>0.493167</td>\n",
       "      <td>0.221929</td>\n",
       "      <td>1991-02-01</td>\n",
       "    </tr>\n",
       "    <tr>\n",
       "      <th>4</th>\n",
       "      <td>1991-03-01</td>\n",
       "      <td>Australia</td>\n",
       "      <td>1430.0</td>\n",
       "      <td>-0.054398</td>\n",
       "      <td>8</td>\n",
       "      <td>-0.046477</td>\n",
       "      <td>-0.531523</td>\n",
       "      <td>0.855935</td>\n",
       "      <td>0.104877</td>\n",
       "      <td>-0.046477</td>\n",
       "      <td>0.321429</td>\n",
       "      <td>1991-03-01</td>\n",
       "    </tr>\n",
       "    <tr>\n",
       "      <th>5</th>\n",
       "      <td>1991-03-01</td>\n",
       "      <td>Australia</td>\n",
       "      <td>1430.0</td>\n",
       "      <td>-0.054398</td>\n",
       "      <td>9</td>\n",
       "      <td>-0.246714</td>\n",
       "      <td>-0.531523</td>\n",
       "      <td>0.855935</td>\n",
       "      <td>0.067773</td>\n",
       "      <td>-0.231999</td>\n",
       "      <td>0.321429</td>\n",
       "      <td>1991-03-01</td>\n",
       "    </tr>\n",
       "  </tbody>\n",
       "</table>\n",
       "</div>"
      ],
      "text/plain": [
       "      mes_ano    country   valor         y  lag_horizonte  lag_y_relevante  \\\n",
       "1  1991-01-01  Australia  1260.0 -1.254461              8         0.493167   \n",
       "2  1991-02-01  Australia  1160.0 -0.747214              8        -0.246714   \n",
       "3  1991-02-01  Australia  1160.0 -0.747214              9         0.493167   \n",
       "4  1991-03-01  Australia  1430.0 -0.054398              8        -0.046477   \n",
       "5  1991-03-01  Australia  1430.0 -0.054398              9        -0.246714   \n",
       "\n",
       "      min_5     max_5    mean_5  median_5  regime_prob       date  \n",
       "1 -0.531523  0.978946  0.312905  0.493167     0.122366 1991-01-01  \n",
       "2 -0.531523  0.855935  0.067773 -0.231999     0.221929 1991-02-01  \n",
       "3 -0.531523  0.978946  0.312905  0.493167     0.221929 1991-02-01  \n",
       "4 -0.531523  0.855935  0.104877 -0.046477     0.321429 1991-03-01  \n",
       "5 -0.531523  0.855935  0.067773 -0.231999     0.321429 1991-03-01  "
      ]
     },
     "execution_count": 69,
     "metadata": {},
     "output_type": "execute_result"
    }
   ],
   "source": [
    "import pandas as pd\n",
    "from datetime import datetime\n",
    "\n",
    "data = pd.read_csv(\"../data/dados_ngboost.csv\", index_col=0)\n",
    "data.rename(columns={\"pais\": \"country\"}, inplace=True)\n",
    "\n",
    "data[\"date\"] = data.mes_ano.apply(lambda x: pd.to_datetime(x, format=\"%Y-%m-%d\"))\n",
    "\n",
    "data.head()"
   ]
  },
  {
   "cell_type": "code",
   "execution_count": 60,
   "metadata": {},
   "outputs": [
    {
     "name": "stdout",
     "output_type": "stream",
     "text": [
      "Singapore (2670, 12)\n",
      "[iter 0] loss=0.2885 val_loss=0.0000 scale=1.0000 norm=0.6828\n",
      "[iter 100] loss=-0.2744 val_loss=0.0000 scale=2.0000 norm=0.8660\n",
      "[iter 200] loss=-0.4689 val_loss=0.0000 scale=2.0000 norm=0.8336\n",
      "[iter 300] loss=-0.5595 val_loss=0.0000 scale=2.0000 norm=0.8531\n",
      "[iter 400] loss=-0.6118 val_loss=0.0000 scale=1.0000 norm=0.4304\n"
     ]
    }
   ],
   "source": []
  },
  {
   "cell_type": "code",
   "execution_count": 70,
   "metadata": {},
   "outputs": [
    {
     "name": "stdout",
     "output_type": "stream",
     "text": [
      "[iter 0] loss=0.3980 val_loss=0.0000 scale=1.0000 norm=0.7334\n",
      "[iter 100] loss=0.2220 val_loss=0.0000 scale=2.0000 norm=1.2903\n",
      "[iter 200] loss=0.1838 val_loss=0.0000 scale=2.0000 norm=1.2997\n",
      "[iter 300] loss=0.1638 val_loss=0.0000 scale=1.0000 norm=0.6489\n",
      "[iter 400] loss=0.1513 val_loss=0.0000 scale=1.0000 norm=0.6489\n"
     ]
    },
    {
     "data": {
      "text/html": [
       "<style>#sk-container-id-3 {color: black;}#sk-container-id-3 pre{padding: 0;}#sk-container-id-3 div.sk-toggleable {background-color: white;}#sk-container-id-3 label.sk-toggleable__label {cursor: pointer;display: block;width: 100%;margin-bottom: 0;padding: 0.3em;box-sizing: border-box;text-align: center;}#sk-container-id-3 label.sk-toggleable__label-arrow:before {content: \"▸\";float: left;margin-right: 0.25em;color: #696969;}#sk-container-id-3 label.sk-toggleable__label-arrow:hover:before {color: black;}#sk-container-id-3 div.sk-estimator:hover label.sk-toggleable__label-arrow:before {color: black;}#sk-container-id-3 div.sk-toggleable__content {max-height: 0;max-width: 0;overflow: hidden;text-align: left;background-color: #f0f8ff;}#sk-container-id-3 div.sk-toggleable__content pre {margin: 0.2em;color: black;border-radius: 0.25em;background-color: #f0f8ff;}#sk-container-id-3 input.sk-toggleable__control:checked~div.sk-toggleable__content {max-height: 200px;max-width: 100%;overflow: auto;}#sk-container-id-3 input.sk-toggleable__control:checked~label.sk-toggleable__label-arrow:before {content: \"▾\";}#sk-container-id-3 div.sk-estimator input.sk-toggleable__control:checked~label.sk-toggleable__label {background-color: #d4ebff;}#sk-container-id-3 div.sk-label input.sk-toggleable__control:checked~label.sk-toggleable__label {background-color: #d4ebff;}#sk-container-id-3 input.sk-hidden--visually {border: 0;clip: rect(1px 1px 1px 1px);clip: rect(1px, 1px, 1px, 1px);height: 1px;margin: -1px;overflow: hidden;padding: 0;position: absolute;width: 1px;}#sk-container-id-3 div.sk-estimator {font-family: monospace;background-color: #f0f8ff;border: 1px dotted black;border-radius: 0.25em;box-sizing: border-box;margin-bottom: 0.5em;}#sk-container-id-3 div.sk-estimator:hover {background-color: #d4ebff;}#sk-container-id-3 div.sk-parallel-item::after {content: \"\";width: 100%;border-bottom: 1px solid gray;flex-grow: 1;}#sk-container-id-3 div.sk-label:hover label.sk-toggleable__label {background-color: #d4ebff;}#sk-container-id-3 div.sk-serial::before {content: \"\";position: absolute;border-left: 1px solid gray;box-sizing: border-box;top: 0;bottom: 0;left: 50%;z-index: 0;}#sk-container-id-3 div.sk-serial {display: flex;flex-direction: column;align-items: center;background-color: white;padding-right: 0.2em;padding-left: 0.2em;position: relative;}#sk-container-id-3 div.sk-item {position: relative;z-index: 1;}#sk-container-id-3 div.sk-parallel {display: flex;align-items: stretch;justify-content: center;background-color: white;position: relative;}#sk-container-id-3 div.sk-item::before, #sk-container-id-3 div.sk-parallel-item::before {content: \"\";position: absolute;border-left: 1px solid gray;box-sizing: border-box;top: 0;bottom: 0;left: 50%;z-index: -1;}#sk-container-id-3 div.sk-parallel-item {display: flex;flex-direction: column;z-index: 1;position: relative;background-color: white;}#sk-container-id-3 div.sk-parallel-item:first-child::after {align-self: flex-end;width: 50%;}#sk-container-id-3 div.sk-parallel-item:last-child::after {align-self: flex-start;width: 50%;}#sk-container-id-3 div.sk-parallel-item:only-child::after {width: 0;}#sk-container-id-3 div.sk-dashed-wrapped {border: 1px dashed gray;margin: 0 0.4em 0.5em 0.4em;box-sizing: border-box;padding-bottom: 0.4em;background-color: white;}#sk-container-id-3 div.sk-label label {font-family: monospace;font-weight: bold;display: inline-block;line-height: 1.2em;}#sk-container-id-3 div.sk-label-container {text-align: center;}#sk-container-id-3 div.sk-container {/* jupyter's `normalize.less` sets `[hidden] { display: none; }` but bootstrap.min.css set `[hidden] { display: none !important; }` so we also need the `!important` here to be able to override the default hidden behavior on the sphinx rendered scikit-learn.org. See: https://github.com/scikit-learn/scikit-learn/issues/21755 */display: inline-block !important;position: relative;}#sk-container-id-3 div.sk-text-repr-fallback {display: none;}</style><div id=\"sk-container-id-3\" class=\"sk-top-container\"><div class=\"sk-text-repr-fallback\"><pre>NGBRegressor(random_state=RandomState(MT19937) at 0x146840D4240)</pre><b>In a Jupyter environment, please rerun this cell to show the HTML representation or trust the notebook. <br />On GitHub, the HTML representation is unable to render, please try loading this page with nbviewer.org.</b></div><div class=\"sk-container\" hidden><div class=\"sk-item sk-dashed-wrapped\"><div class=\"sk-label-container\"><div class=\"sk-label sk-toggleable\"><input class=\"sk-toggleable__control sk-hidden--visually\" id=\"sk-estimator-id-7\" type=\"checkbox\" ><label for=\"sk-estimator-id-7\" class=\"sk-toggleable__label sk-toggleable__label-arrow\">NGBRegressor</label><div class=\"sk-toggleable__content\"><pre>NGBRegressor(random_state=RandomState(MT19937) at 0x146840D4240)</pre></div></div></div><div class=\"sk-parallel\"><div class=\"sk-parallel-item\"><div class=\"sk-item\"><div class=\"sk-label-container\"><div class=\"sk-label sk-toggleable\"><input class=\"sk-toggleable__control sk-hidden--visually\" id=\"sk-estimator-id-8\" type=\"checkbox\" ><label for=\"sk-estimator-id-8\" class=\"sk-toggleable__label sk-toggleable__label-arrow\">Base: DecisionTreeRegressor</label><div class=\"sk-toggleable__content\"><pre>DecisionTreeRegressor(criterion=&#x27;friedman_mse&#x27;, max_depth=3)</pre></div></div></div><div class=\"sk-serial\"><div class=\"sk-item\"><div class=\"sk-estimator sk-toggleable\"><input class=\"sk-toggleable__control sk-hidden--visually\" id=\"sk-estimator-id-9\" type=\"checkbox\" ><label for=\"sk-estimator-id-9\" class=\"sk-toggleable__label sk-toggleable__label-arrow\">DecisionTreeRegressor</label><div class=\"sk-toggleable__content\"><pre>DecisionTreeRegressor(criterion=&#x27;friedman_mse&#x27;, max_depth=3)</pre></div></div></div></div></div></div></div></div></div></div>"
      ],
      "text/plain": [
       "NGBRegressor(random_state=RandomState(MT19937) at 0x146840D4240)"
      ]
     },
     "execution_count": 70,
     "metadata": {},
     "output_type": "execute_result"
    }
   ],
   "source": [
    "all_data = data.copy()\n",
    "\n",
    "# mes_ano, country, valor, y, lag_horizonte, lag_y_relevante, min_5, max_5, mean_5, median_5, regime_prob\n",
    "X, y = all_data.drop(columns = [\"y\", \"valor\", \"date\", \"mes_ano\", \"country\", \"lag_horizonte\"]), all_data[\"y\"]\n",
    "\n",
    "train_cut = (all_data.date < datetime(2019, 1, 1))\n",
    "X_train, X_test, y_train, y_test = (\n",
    "    X[train_cut],\n",
    "    X[~train_cut],\n",
    "    y[train_cut],\n",
    "    y[~train_cut],\n",
    ")\n",
    "\n",
    "ngb = NGBRegressor(random_state=42, validation_fraction = .2)\n",
    "ngb.fit(X_train, y_train)"
   ]
  },
  {
   "cell_type": "code",
   "execution_count": 72,
   "metadata": {},
   "outputs": [
    {
     "data": {
      "text/plain": [
       "16732226.48627308"
      ]
     },
     "execution_count": 72,
     "metadata": {},
     "output_type": "execute_result"
    }
   ],
   "source": [
    "country = \"Hong Kong SAR\"\n",
    "\n",
    "australia_test = data[(data.country == country) & ~train_cut].copy()\n",
    "australia_test.sort_values(by=[\"mes_ano\", \"lag_horizonte\"])\n",
    "\n",
    "select = pd.DataFrame(\n",
    "    data={\n",
    "        \"date\": pd.date_range(\n",
    "            start=datetime(2019, 1, 1), end=datetime(2019, 12, 1), freq=\"MS\"\n",
    "        ),\n",
    "        \"lag_horizonte\": range(8, 19 + 1),\n",
    "    }\n",
    ")\n",
    "\n",
    "australia_test = pd.merge(\n",
    "    select, australia_test, on=[\"date\", \"lag_horizonte\"], how=\"left\"\n",
    ")\n",
    "\n",
    "select = pd.DataFrame(\n",
    "    data = {\n",
    "        \"date\": pd.date_range(datetime(2018, 1, 1), end = datetime(2018, 12, 1), freq = \"MS\"),\n",
    "    }\n",
    ")\n",
    "\n",
    "australia_lag = pd.merge(select, data[data.country == country], on = [\"date\"], how = \"left\").drop_duplicates(keep = \"first\", subset = [\"date\"])[\"valor\"]\n",
    "pred = np.exp(ngb.predict(australia_test[X_train.columns])) * australia_lag - 1\n",
    "\n",
    "sum(abs(australia_test[\"valor\"].values - pred))"
   ]
  },
  {
   "cell_type": "code",
   "execution_count": 64,
   "metadata": {},
   "outputs": [
    {
     "name": "stdout",
     "output_type": "stream",
     "text": [
      "Australia (4542, 12)\n",
      "[iter 0] loss=0.0223 val_loss=0.0000 scale=1.0000 norm=0.6785\n",
      "[iter 100] loss=-0.3551 val_loss=0.0000 scale=1.0000 norm=0.4869\n",
      "[iter 200] loss=-0.4300 val_loss=0.0000 scale=1.0000 norm=0.5019\n",
      "[iter 300] loss=-0.4820 val_loss=0.0000 scale=1.0000 norm=0.5051\n",
      "[iter 400] loss=-0.5383 val_loss=0.0000 scale=2.0000 norm=0.9820\n"
     ]
    }
   ],
   "source": [
    "from ngboost import NGBRegressor\n",
    "for country, gidxs in data.groupby(\"country\").groups.items():\n",
    "\n",
    "    group = data.iloc[gidxs]\n",
    "    print(country, group.shape)\n",
    "\n",
    "    # mes_ano, country, valor, y, lag_horizonte, lag_y_relevante, min_5, max_5, mean_5, median_5, regime_prob\n",
    "    X, y = group.drop(columns = [\"y\", \"valor\", \"date\", \"mes_ano\", \"country\", \"lag_horizonte\"]), group[\"y\"]\n",
    "\n",
    "    train_cut = (group.date < datetime(2019, 1, 1))\n",
    "    X_train, X_test, y_train, y_test = (\n",
    "        X[train_cut],\n",
    "        X[~train_cut],\n",
    "        y[train_cut],\n",
    "        y[~train_cut],\n",
    "    )\n",
    "\n",
    "    ngb = NGBRegressor(random_state=42, validation_fraction = .2)\n",
    "    ngb.fit(X_train, y_train)\n",
    "\n",
    "    break\n",
    "\n",
    "\n",
    "# class NGBAutoRegressor(NGBRegressor):\n",
    "#     def multistep(self, X: pd.DataFrame, steps: int):\n",
    "#         # FIXME assumes SARIMA(1, 0, 0)(1, 0, 0, 12) process\n",
    "#         pass"
   ]
  },
  {
   "cell_type": "code",
   "execution_count": 65,
   "metadata": {},
   "outputs": [
    {
     "data": {
      "text/plain": [
       "174589.7731957896"
      ]
     },
     "execution_count": 65,
     "metadata": {},
     "output_type": "execute_result"
    }
   ],
   "source": [
    "country = \"Australia\"\n",
    "\n",
    "australia_test = data[(data.country == country) & ~train_cut].copy()\n",
    "australia_test.sort_values(by=[\"mes_ano\", \"lag_horizonte\"])\n",
    "\n",
    "select = pd.DataFrame(\n",
    "    data={\n",
    "        \"date\": pd.date_range(\n",
    "            start=datetime(2019, 1, 1), end=datetime(2019, 12, 1), freq=\"MS\"\n",
    "        ),\n",
    "        \"lag_horizonte\": range(8, 19 + 1),\n",
    "    }\n",
    ")\n",
    "\n",
    "australia_test = pd.merge(\n",
    "    select, australia_test, on=[\"date\", \"lag_horizonte\"], how=\"left\"\n",
    ")\n",
    "\n",
    "select = pd.DataFrame(\n",
    "    data = {\n",
    "        \"date\": pd.date_range(datetime(2018, 1, 1), end = datetime(2018, 12, 1), freq = \"MS\"),\n",
    "    }\n",
    ")\n",
    "\n",
    "australia_lag = pd.merge(select, data[data.country == country], on = [\"date\"], how = \"left\").drop_duplicates(keep = \"first\", subset = [\"date\"])[\"valor\"]\n",
    "pred = np.exp(ngb.predict(australia_test[X_train.columns])) * australia_lag - 1\n",
    "\n",
    "sum(abs(australia_test[\"valor\"].values - pred))"
   ]
  },
  {
   "cell_type": "code",
   "execution_count": 45,
   "metadata": {},
   "outputs": [
    {
     "name": "stdout",
     "output_type": "stream",
     "text": [
      "\u001b[1;31mSignature:\u001b[0m\n",
      "\u001b[0mpd\u001b[0m\u001b[1;33m.\u001b[0m\u001b[0mDataFrame\u001b[0m\u001b[1;33m.\u001b[0m\u001b[0mdrop_duplicates\u001b[0m\u001b[1;33m(\u001b[0m\u001b[1;33m\n",
      "\u001b[0m    \u001b[0mself\u001b[0m\u001b[1;33m,\u001b[0m\u001b[1;33m\n",
      "\u001b[0m    \u001b[0msubset\u001b[0m\u001b[1;33m:\u001b[0m \u001b[1;34m'Hashable | Sequence[Hashable] | None'\u001b[0m \u001b[1;33m=\u001b[0m \u001b[1;32mNone\u001b[0m\u001b[1;33m,\u001b[0m\u001b[1;33m\n",
      "\u001b[0m    \u001b[1;33m*\u001b[0m\u001b[1;33m,\u001b[0m\u001b[1;33m\n",
      "\u001b[0m    \u001b[0mkeep\u001b[0m\u001b[1;33m:\u001b[0m \u001b[1;34m'DropKeep'\u001b[0m \u001b[1;33m=\u001b[0m \u001b[1;34m'first'\u001b[0m\u001b[1;33m,\u001b[0m\u001b[1;33m\n",
      "\u001b[0m    \u001b[0minplace\u001b[0m\u001b[1;33m:\u001b[0m \u001b[1;34m'bool'\u001b[0m \u001b[1;33m=\u001b[0m \u001b[1;32mFalse\u001b[0m\u001b[1;33m,\u001b[0m\u001b[1;33m\n",
      "\u001b[0m    \u001b[0mignore_index\u001b[0m\u001b[1;33m:\u001b[0m \u001b[1;34m'bool'\u001b[0m \u001b[1;33m=\u001b[0m \u001b[1;32mFalse\u001b[0m\u001b[1;33m,\u001b[0m\u001b[1;33m\n",
      "\u001b[0m\u001b[1;33m)\u001b[0m \u001b[1;33m->\u001b[0m \u001b[1;34m'DataFrame | None'\u001b[0m\u001b[1;33m\u001b[0m\u001b[1;33m\u001b[0m\u001b[0m\n",
      "\u001b[1;31mDocstring:\u001b[0m\n",
      "Return DataFrame with duplicate rows removed.\n",
      "\n",
      "Considering certain columns is optional. Indexes, including time indexes\n",
      "are ignored.\n",
      "\n",
      "Parameters\n",
      "----------\n",
      "subset : column label or sequence of labels, optional\n",
      "    Only consider certain columns for identifying duplicates, by\n",
      "    default use all of the columns.\n",
      "keep : {'first', 'last', ``False``}, default 'first'\n",
      "    Determines which duplicates (if any) to keep.\n",
      "\n",
      "    - 'first' : Drop duplicates except for the first occurrence.\n",
      "    - 'last' : Drop duplicates except for the last occurrence.\n",
      "    - ``False`` : Drop all duplicates.\n",
      "\n",
      "inplace : bool, default ``False``\n",
      "    Whether to modify the DataFrame rather than creating a new one.\n",
      "ignore_index : bool, default ``False``\n",
      "    If ``True``, the resulting axis will be labeled 0, 1, …, n - 1.\n",
      "\n",
      "Returns\n",
      "-------\n",
      "DataFrame or None\n",
      "    DataFrame with duplicates removed or None if ``inplace=True``.\n",
      "\n",
      "See Also\n",
      "--------\n",
      "DataFrame.value_counts: Count unique combinations of columns.\n",
      "\n",
      "Examples\n",
      "--------\n",
      "Consider dataset containing ramen rating.\n",
      "\n",
      ">>> df = pd.DataFrame({\n",
      "...     'brand': ['Yum Yum', 'Yum Yum', 'Indomie', 'Indomie', 'Indomie'],\n",
      "...     'style': ['cup', 'cup', 'cup', 'pack', 'pack'],\n",
      "...     'rating': [4, 4, 3.5, 15, 5]\n",
      "... })\n",
      ">>> df\n",
      "    brand style  rating\n",
      "0  Yum Yum   cup     4.0\n",
      "1  Yum Yum   cup     4.0\n",
      "2  Indomie   cup     3.5\n",
      "3  Indomie  pack    15.0\n",
      "4  Indomie  pack     5.0\n",
      "\n",
      "By default, it removes duplicate rows based on all columns.\n",
      "\n",
      ">>> df.drop_duplicates()\n",
      "    brand style  rating\n",
      "0  Yum Yum   cup     4.0\n",
      "2  Indomie   cup     3.5\n",
      "3  Indomie  pack    15.0\n",
      "4  Indomie  pack     5.0\n",
      "\n",
      "To remove duplicates on specific column(s), use ``subset``.\n",
      "\n",
      ">>> df.drop_duplicates(subset=['brand'])\n",
      "    brand style  rating\n",
      "0  Yum Yum   cup     4.0\n",
      "2  Indomie   cup     3.5\n",
      "\n",
      "To remove duplicates and keep last occurrences, use ``keep``.\n",
      "\n",
      ">>> df.drop_duplicates(subset=['brand', 'style'], keep='last')\n",
      "    brand style  rating\n",
      "1  Yum Yum   cup     4.0\n",
      "2  Indomie   cup     3.5\n",
      "4  Indomie  pack     5.0\n",
      "\u001b[1;31mFile:\u001b[0m      c:\\users\\felipe\\.conda\\envs\\tourism\\lib\\site-packages\\pandas\\core\\frame.py\n",
      "\u001b[1;31mType:\u001b[0m      function"
     ]
    }
   ],
   "source": [
    "pd.DataFrame.drop_duplicates?"
   ]
  },
  {
   "cell_type": "code",
   "execution_count": 41,
   "metadata": {},
   "outputs": [
    {
     "ename": "TypeError",
     "evalue": "'months' is an invalid keyword argument for __new__()",
     "output_type": "error",
     "traceback": [
      "\u001b[1;31m---------------------------------------------------------------------------\u001b[0m",
      "\u001b[1;31mTypeError\u001b[0m                                 Traceback (most recent call last)",
      "Cell \u001b[1;32mIn[41], line 6\u001b[0m\n\u001b[0;32m      1\u001b[0m \u001b[39mfrom\u001b[39;00m \u001b[39mdatetime\u001b[39;00m \u001b[39mimport\u001b[39;00m datetime, timedelta\n\u001b[0;32m      3\u001b[0m data[\n\u001b[0;32m      4\u001b[0m         (data\u001b[39m.\u001b[39mcountry \u001b[39m==\u001b[39m \u001b[39m\"\u001b[39m\u001b[39mAustralia\u001b[39m\u001b[39m\"\u001b[39m)\n\u001b[0;32m      5\u001b[0m         \u001b[39m&\u001b[39m (\n\u001b[1;32m----> 6\u001b[0m             data\u001b[39m.\u001b[39;49mdate\u001b[39m.\u001b[39;49misin(\n\u001b[0;32m      7\u001b[0m                 datetime(\u001b[39m2019\u001b[39;49m, \u001b[39m1\u001b[39;49m, \u001b[39m1\u001b[39;49m) \u001b[39m-\u001b[39;49m timedelta(months\u001b[39m=\u001b[39;49mm) \u001b[39mfor\u001b[39;49;00m m \u001b[39min\u001b[39;49;00m \u001b[39mrange\u001b[39;49m(\u001b[39m1\u001b[39;49m, \u001b[39m12\u001b[39;49m \u001b[39m+\u001b[39;49m \u001b[39m1\u001b[39;49m)\n\u001b[0;32m      8\u001b[0m             )\n\u001b[0;32m      9\u001b[0m         )\n\u001b[0;32m     10\u001b[0m     ]\n",
      "File \u001b[1;32mc:\\Users\\felipe\\.conda\\envs\\tourism\\lib\\site-packages\\pandas\\core\\series.py:5406\u001b[0m, in \u001b[0;36mSeries.isin\u001b[1;34m(self, values)\u001b[0m\n\u001b[0;32m   5333\u001b[0m \u001b[39mdef\u001b[39;00m \u001b[39misin\u001b[39m(\u001b[39mself\u001b[39m, values) \u001b[39m-\u001b[39m\u001b[39m>\u001b[39m Series:\n\u001b[0;32m   5334\u001b[0m \u001b[39m    \u001b[39m\u001b[39m\"\"\"\u001b[39;00m\n\u001b[0;32m   5335\u001b[0m \u001b[39m    Whether elements in Series are contained in `values`.\u001b[39;00m\n\u001b[0;32m   5336\u001b[0m \n\u001b[1;32m   (...)\u001b[0m\n\u001b[0;32m   5404\u001b[0m \u001b[39m    dtype: bool\u001b[39;00m\n\u001b[0;32m   5405\u001b[0m \u001b[39m    \"\"\"\u001b[39;00m\n\u001b[1;32m-> 5406\u001b[0m     result \u001b[39m=\u001b[39m algorithms\u001b[39m.\u001b[39;49misin(\u001b[39mself\u001b[39;49m\u001b[39m.\u001b[39;49m_values, values)\n\u001b[0;32m   5407\u001b[0m     \u001b[39mreturn\u001b[39;00m \u001b[39mself\u001b[39m\u001b[39m.\u001b[39m_constructor(result, index\u001b[39m=\u001b[39m\u001b[39mself\u001b[39m\u001b[39m.\u001b[39mindex, copy\u001b[39m=\u001b[39m\u001b[39mFalse\u001b[39;00m)\u001b[39m.\u001b[39m__finalize__(\n\u001b[0;32m   5408\u001b[0m         \u001b[39mself\u001b[39m, method\u001b[39m=\u001b[39m\u001b[39m\"\u001b[39m\u001b[39misin\u001b[39m\u001b[39m\"\u001b[39m\n\u001b[0;32m   5409\u001b[0m     )\n",
      "File \u001b[1;32mc:\\Users\\felipe\\.conda\\envs\\tourism\\lib\\site-packages\\pandas\\core\\algorithms.py:469\u001b[0m, in \u001b[0;36misin\u001b[1;34m(comps, values)\u001b[0m\n\u001b[0;32m    463\u001b[0m     \u001b[39mraise\u001b[39;00m \u001b[39mTypeError\u001b[39;00m(\n\u001b[0;32m    464\u001b[0m         \u001b[39m\"\u001b[39m\u001b[39monly list-like objects are allowed to be passed \u001b[39m\u001b[39m\"\u001b[39m\n\u001b[0;32m    465\u001b[0m         \u001b[39mf\u001b[39m\u001b[39m\"\u001b[39m\u001b[39mto isin(), you passed a [\u001b[39m\u001b[39m{\u001b[39;00m\u001b[39mtype\u001b[39m(values)\u001b[39m.\u001b[39m\u001b[39m__name__\u001b[39m\u001b[39m}\u001b[39;00m\u001b[39m]\u001b[39m\u001b[39m\"\u001b[39m\n\u001b[0;32m    466\u001b[0m     )\n\u001b[0;32m    468\u001b[0m \u001b[39mif\u001b[39;00m \u001b[39mnot\u001b[39;00m \u001b[39misinstance\u001b[39m(values, (ABCIndex, ABCSeries, ABCExtensionArray, np\u001b[39m.\u001b[39mndarray)):\n\u001b[1;32m--> 469\u001b[0m     orig_values \u001b[39m=\u001b[39m \u001b[39mlist\u001b[39;49m(values)\n\u001b[0;32m    470\u001b[0m     values \u001b[39m=\u001b[39m _ensure_arraylike(orig_values)\n\u001b[0;32m    472\u001b[0m     \u001b[39mif\u001b[39;00m (\n\u001b[0;32m    473\u001b[0m         \u001b[39mlen\u001b[39m(values) \u001b[39m>\u001b[39m \u001b[39m0\u001b[39m\n\u001b[0;32m    474\u001b[0m         \u001b[39mand\u001b[39;00m is_numeric_dtype(values)\n\u001b[1;32m   (...)\u001b[0m\n\u001b[0;32m    477\u001b[0m         \u001b[39m# GH#46485 Use object to avoid upcast to float64 later\u001b[39;00m\n\u001b[0;32m    478\u001b[0m         \u001b[39m# TODO: Share with _find_common_type_compat\u001b[39;00m\n",
      "Cell \u001b[1;32mIn[41], line 7\u001b[0m, in \u001b[0;36m<genexpr>\u001b[1;34m(.0)\u001b[0m\n\u001b[0;32m      1\u001b[0m \u001b[39mfrom\u001b[39;00m \u001b[39mdatetime\u001b[39;00m \u001b[39mimport\u001b[39;00m datetime, timedelta\n\u001b[0;32m      3\u001b[0m data[\n\u001b[0;32m      4\u001b[0m         (data\u001b[39m.\u001b[39mcountry \u001b[39m==\u001b[39m \u001b[39m\"\u001b[39m\u001b[39mAustralia\u001b[39m\u001b[39m\"\u001b[39m)\n\u001b[0;32m      5\u001b[0m         \u001b[39m&\u001b[39m (\n\u001b[0;32m      6\u001b[0m             data\u001b[39m.\u001b[39mdate\u001b[39m.\u001b[39misin(\n\u001b[1;32m----> 7\u001b[0m                 datetime(\u001b[39m2019\u001b[39m, \u001b[39m1\u001b[39m, \u001b[39m1\u001b[39m) \u001b[39m-\u001b[39m timedelta(months\u001b[39m=\u001b[39;49mm) \u001b[39mfor\u001b[39;00m m \u001b[39min\u001b[39;00m \u001b[39mrange\u001b[39m(\u001b[39m1\u001b[39m, \u001b[39m12\u001b[39m \u001b[39m+\u001b[39m \u001b[39m1\u001b[39m)\n\u001b[0;32m      8\u001b[0m             )\n\u001b[0;32m      9\u001b[0m         )\n\u001b[0;32m     10\u001b[0m     ]\n",
      "\u001b[1;31mTypeError\u001b[0m: 'months' is an invalid keyword argument for __new__()"
     ]
    }
   ],
   "source": [
    "from datetime import datetime\n",
    "\n",
    "\n",
    "data[\n",
    "        (data.country == \"Australia\")\n",
    "        & (\n",
    "            data.date.isin(\n",
    "                datetime(2019, 1, 1) - timedelta(months=m) for m in range(1, 12 + 1)\n",
    "            )\n",
    "        )\n",
    "    ]"
   ]
  },
  {
   "cell_type": "code",
   "execution_count": 18,
   "metadata": {},
   "outputs": [
    {
     "data": {
      "text/plain": [
       "327.82568706697475"
      ]
     },
     "execution_count": 18,
     "metadata": {},
     "output_type": "execute_result"
    }
   ],
   "source": [
    "import numpy as np\n",
    "\n",
    "sum((np.exp(ngb.predict(X_test)) - np.exp(y_test)) ** 2) ** .5"
   ]
  },
  {
   "cell_type": "code",
   "execution_count": 9,
   "metadata": {},
   "outputs": [
    {
     "data": {
      "text/plain": [
       "<Axes: xlabel='y(t-0)', ylabel='y(t+1)'>"
      ]
     },
     "execution_count": 9,
     "metadata": {},
     "output_type": "execute_result"
    },
    {
     "data": {
      "image/png": "[encoded data removed]",
      "text/plain": [
       "<Figure size 640x480 with 1 Axes>"
      ]
     },
     "metadata": {},
     "output_type": "display_data"
    }
   ],
   "source": [
    "import numpy as np\n",
    "from tabular_time_series.tsdf import timeseries2df\n",
    "\n",
    "\n",
    "N = 1_000\n",
    "x = [.3]\n",
    "for _ in range(N):\n",
    "    x.append(.2 * x[-1] + np.random.normal(0, .05))\n",
    "\n",
    "df = timeseries2df(x, 1, 1)\n",
    "\n",
    "import seaborn as sns\n",
    "\n",
    "sns.scatterplot(data = df, x = \"y(t-0)\", y = \"y(t+1)\")"
   ]
  },
  {
   "cell_type": "code",
   "execution_count": null,
   "metadata": {},
   "outputs": [],
   "source": []
  }
 ],
 "metadata": {
  "kernelspec": {
   "display_name": "base",
   "language": "python",
   "name": "python3"
  },
  "language_info": {
   "codemirror_mode": {
    "name": "ipython",
    "version": 3
   },
   "file_extension": ".py",
   "mimetype": "text/x-python",
   "name": "python",
   "nbconvert_exporter": "python",
   "pygments_lexer": "ipython3",
   "version": "3.10.12"
  },
  "orig_nbformat": 4
 },
 "nbformat": 4,
 "nbformat_minor": 2
}
